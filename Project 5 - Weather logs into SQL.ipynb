{
 "cells": [
  {
   "cell_type": "code",
   "execution_count": 4,
   "metadata": {
    "ExecuteTime": {
     "end_time": "2021-12-23T18:50:43.252543Z",
     "start_time": "2021-12-23T18:50:41.940567Z"
    }
   },
   "outputs": [],
   "source": [
    "import requests\n",
    "from bs4 import BeautifulSoup\n",
    "from datetime import datetime\n",
    "import time\n",
    "import sqlite3"
   ]
  },
  {
   "cell_type": "code",
   "execution_count": 3,
   "metadata": {
    "ExecuteTime": {
     "end_time": "2021-12-23T18:15:35.172629Z",
     "start_time": "2021-12-23T18:15:35.158626Z"
    }
   },
   "outputs": [],
   "source": [
    "# Create database\n",
    "conn = sqlite3.connect(\"cairo_weather.db\")\n",
    "\n",
    "conn.execute(\"CREATE TABLE weather (id INTEGER PRIMARY KEY AUTOINCREMENT, temp int, wind int, humidity int, visibility int, pressure int, time_now datetime)\")\n",
    "\n",
    "conn.close()"
   ]
  },
  {
   "cell_type": "code",
   "execution_count": 14,
   "metadata": {
    "ExecuteTime": {
     "end_time": "2021-12-23T19:48:41.745158Z",
     "start_time": "2021-12-23T19:48:09.774227Z"
    }
   },
   "outputs": [
    {
     "name": "stdout",
     "output_type": "stream",
     "text": [
      "14 || 6 || 77 || 6000 || 1021.0 || 2021-12-23 21:48:11.342587\n",
      "14 || 6 || 77 || 6000 || 1021.0 || 2021-12-23 21:48:14.541294\n",
      "14 || 6 || 77 || 6000 || 1021.0 || 2021-12-23 21:48:17.599431\n",
      "14 || 6 || 77 || 6000 || 1021.0 || 2021-12-23 21:48:21.771427\n",
      "14 || 6 || 77 || 6000 || 1021.0 || 2021-12-23 21:48:24.868427\n",
      "14 || 6 || 77 || 6000 || 1021.0 || 2021-12-23 21:48:27.758430\n",
      "14 || 6 || 77 || 6000 || 1021.0 || 2021-12-23 21:48:30.700429\n",
      "14 || 6 || 77 || 6000 || 1021.0 || 2021-12-23 21:48:33.640919\n",
      "14 || 6 || 77 || 6000 || 1021.0 || 2021-12-23 21:48:36.784156\n",
      "14 || 6 || 77 || 6000 || 1021.0 || 2021-12-23 21:48:39.729157\n"
     ]
    }
   ],
   "source": [
    "# Open connection to db\n",
    "conn = sqlite3.connect(\"cairo_weather.db\")\n",
    "\n",
    "for i in range(10):\n",
    "    response = requests.request('GET', 'https://eg.freemeteo.com/weather/cairo/current-weather/location/?gid=360630&language=english&country=egypt')\n",
    "    soup = BeautifulSoup(response.text, 'html.parser')\n",
    "    \n",
    "    div = soup.find('div', attrs={'class':'last-renew-info'})\n",
    "    temp = int(div.find('div', class_='temp').text.replace('°C', '')) # 1: Temperature\n",
    "    \n",
    "    wind = div.find('div', class_='wind')\n",
    "    white = wind.find('span', class_='white')\n",
    "    wind_speed = int(white.find('b').text)  # 2: Wind speed\n",
    "    \n",
    "    stats = div.find(class_='stats')\n",
    "    stats_list = stats.text.split('|')\n",
    "    \n",
    "    humidity = stats_list[0].strip().split('\\r\\n')[1].strip().replace('%', '')    # 3: Humidity\n",
    "    visibility = stats_list[1].strip().split('\\r\\n')[1].strip().replace('m', '')  # 4: Visibility\n",
    "    pressure = stats_list[2].strip().split('\\r\\n')[1].strip().split('mb')[0]    # 5: Pressure\n",
    "    \n",
    "    date = datetime.now()  # 6: time_now\n",
    "    \n",
    "    ###### YOUR CODE HERE\n",
    "    print(temp, wind_speed, humidity, visibility, pressure, date, sep=\" || \")\n",
    "    query = \"INSERT INTO weather (temp, wind, humidity, visibility, pressure, time_now) VALUES (?,?,?,?,?,?)\"\n",
    "    values = [temp, wind_speed, humidity, visibility, pressure, date]\n",
    "    \n",
    "    conn.execute(query, values)\n",
    "    conn.commit()\n",
    "    \n",
    "    time.sleep(2)"
   ]
  },
  {
   "cell_type": "code",
   "execution_count": 15,
   "metadata": {
    "ExecuteTime": {
     "end_time": "2021-12-23T19:49:59.221641Z",
     "start_time": "2021-12-23T19:49:59.192638Z"
    }
   },
   "outputs": [
    {
     "data": {
      "text/plain": [
       "[(1, 14, 11, 72, 6000, 1020, '2021-12-23 21:25:51.530408'),\n",
       " (2, 14, 11, 72, 6000, 1020, '2021-12-23 21:25:54.513439'),\n",
       " (3, 14, 11, 72, 6000, 1020, '2021-12-23 21:25:57.836724'),\n",
       " (4, 14, 11, 72, 6000, 1020, '2021-12-23 21:26:00.803811'),\n",
       " (5, 14, 11, 72, 6000, 1020, '2021-12-23 21:26:03.716845'),\n",
       " (6, 14, 11, 72, 6000, 1020, '2021-12-23 21:26:06.792808'),\n",
       " (7, 14, 11, 72, 6000, 1020, '2021-12-23 21:26:09.816846'),\n",
       " (8, 14, 11, 72, 6000, 1020, '2021-12-23 21:26:12.736850'),\n",
       " (9, 14, 11, 72, 6000, 1020, '2021-12-23 21:26:15.669188'),\n",
       " (10, 14, 11, 72, 6000, 1020, '2021-12-23 21:26:18.609336'),\n",
       " (11, 14, 6, 77, 6000, 1021, '2021-12-23 21:48:11.342587'),\n",
       " (12, 14, 6, 77, 6000, 1021, '2021-12-23 21:48:14.541294'),\n",
       " (13, 14, 6, 77, 6000, 1021, '2021-12-23 21:48:17.599431'),\n",
       " (14, 14, 6, 77, 6000, 1021, '2021-12-23 21:48:21.771427'),\n",
       " (15, 14, 6, 77, 6000, 1021, '2021-12-23 21:48:24.868427'),\n",
       " (16, 14, 6, 77, 6000, 1021, '2021-12-23 21:48:27.758430'),\n",
       " (17, 14, 6, 77, 6000, 1021, '2021-12-23 21:48:30.700429'),\n",
       " (18, 14, 6, 77, 6000, 1021, '2021-12-23 21:48:33.640919'),\n",
       " (19, 14, 6, 77, 6000, 1021, '2021-12-23 21:48:36.784156'),\n",
       " (20, 14, 6, 77, 6000, 1021, '2021-12-23 21:48:39.729157')]"
      ]
     },
     "execution_count": 15,
     "metadata": {},
     "output_type": "execute_result"
    }
   ],
   "source": [
    "# Show database here\n",
    "data = conn.execute(\"SELECT * FROM weather\").fetchall()\n",
    "conn.close()\n",
    "\n",
    "data"
   ]
  },
  {
   "cell_type": "code",
   "execution_count": null,
   "metadata": {},
   "outputs": [],
   "source": []
  }
 ],
 "metadata": {
  "kernelspec": {
   "display_name": "Python 3",
   "language": "python",
   "name": "python3"
  },
  "language_info": {
   "codemirror_mode": {
    "name": "ipython",
    "version": 3
   },
   "file_extension": ".py",
   "mimetype": "text/x-python",
   "name": "python",
   "nbconvert_exporter": "python",
   "pygments_lexer": "ipython3",
   "version": "3.8.5"
  }
 },
 "nbformat": 4,
 "nbformat_minor": 4
}
